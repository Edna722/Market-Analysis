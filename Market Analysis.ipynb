{
 "cells": [
  {
   "cell_type": "markdown",
   "metadata": {},
   "source": [
    "# Market Analysis "
   ]
  },
  {
   "cell_type": "markdown",
   "metadata": {},
   "source": [
    "## Business Understanding "
   ]
  },
  {
   "cell_type": "markdown",
   "metadata": {},
   "source": [
    "### Overview "
   ]
  },
  {
   "cell_type": "markdown",
   "metadata": {},
   "source": [
    "### Problem Statement "
   ]
  },
  {
   "cell_type": "markdown",
   "metadata": {},
   "source": [
    "### Objectives "
   ]
  },
  {
   "cell_type": "markdown",
   "metadata": {},
   "source": [
    "### Data Understanding "
   ]
  },
  {
   "cell_type": "markdown",
   "metadata": {},
   "source": [
    "## 1. Import the required Libraries "
   ]
  },
  {
   "cell_type": "code",
   "execution_count": 1,
   "metadata": {},
   "outputs": [],
   "source": [
    "import pandas as pd \n",
    "import numpy as np \n",
    "import seaborn as sns \n",
    "import matplotlib.pyplot as plt \n",
    "import missingno as msno\n",
    "%matplotlib inline \n",
    "\n"
   ]
  },
  {
   "cell_type": "code",
   "execution_count": 2,
   "metadata": {},
   "outputs": [],
   "source": [
    "# ! pip install"
   ]
  },
  {
   "cell_type": "markdown",
   "metadata": {},
   "source": [
    "## 2. Data Munging "
   ]
  },
  {
   "cell_type": "markdown",
   "metadata": {},
   "source": [
    "* Load the raw data to a readbale format"
   ]
  },
  {
   "cell_type": "code",
   "execution_count": 3,
   "metadata": {},
   "outputs": [
    {
     "data": {
      "text/html": [
       "<div>\n",
       "<style scoped>\n",
       "    .dataframe tbody tr th:only-of-type {\n",
       "        vertical-align: middle;\n",
       "    }\n",
       "\n",
       "    .dataframe tbody tr th {\n",
       "        vertical-align: top;\n",
       "    }\n",
       "\n",
       "    .dataframe thead th {\n",
       "        text-align: right;\n",
       "    }\n",
       "</style>\n",
       "<table border=\"1\" class=\"dataframe\">\n",
       "  <thead>\n",
       "    <tr style=\"text-align: right;\">\n",
       "      <th></th>\n",
       "      <th>Company Name</th>\n",
       "      <th>Service Line</th>\n",
       "      <th>Service Line(%)</th>\n",
       "      <th>Focus</th>\n",
       "      <th>Focus(%)</th>\n",
       "      <th>Industries</th>\n",
       "      <th>Industry(%)</th>\n",
       "      <th>Clients</th>\n",
       "      <th>Clients(%)</th>\n",
       "    </tr>\n",
       "  </thead>\n",
       "  <tbody>\n",
       "    <tr>\n",
       "      <th>0</th>\n",
       "      <td>BluChip Solutions LTD</td>\n",
       "      <td>Custom Software Development</td>\n",
       "      <td>40%</td>\n",
       "      <td></td>\n",
       "      <td>NaN</td>\n",
       "      <td>Education</td>\n",
       "      <td>20%</td>\n",
       "      <td>Small Business (&lt;$10M)</td>\n",
       "      <td>65%</td>\n",
       "    </tr>\n",
       "    <tr>\n",
       "      <th>1</th>\n",
       "      <td>BluChip Solutions LTD</td>\n",
       "      <td>IT Strategy Consulting</td>\n",
       "      <td>20%</td>\n",
       "      <td></td>\n",
       "      <td>NaN</td>\n",
       "      <td>Medical</td>\n",
       "      <td>15%</td>\n",
       "      <td>Midmarket ($10M - $1B)</td>\n",
       "      <td>20%</td>\n",
       "    </tr>\n",
       "    <tr>\n",
       "      <th>2</th>\n",
       "      <td>BluChip Solutions LTD</td>\n",
       "      <td>Web Development</td>\n",
       "      <td>20%</td>\n",
       "      <td></td>\n",
       "      <td>NaN</td>\n",
       "      <td>Non-Profit</td>\n",
       "      <td>15%</td>\n",
       "      <td>Enterprise (&gt;$1B)</td>\n",
       "      <td>15%</td>\n",
       "    </tr>\n",
       "    <tr>\n",
       "      <th>3</th>\n",
       "      <td>BluChip Solutions LTD</td>\n",
       "      <td>E-Commerce Development</td>\n",
       "      <td>10%</td>\n",
       "      <td></td>\n",
       "      <td>NaN</td>\n",
       "      <td>Financial services</td>\n",
       "      <td>10%</td>\n",
       "      <td>NaN</td>\n",
       "      <td>NaN</td>\n",
       "    </tr>\n",
       "    <tr>\n",
       "      <th>4</th>\n",
       "      <td>BluChip Solutions LTD</td>\n",
       "      <td>Mobile App Development</td>\n",
       "      <td>10%</td>\n",
       "      <td></td>\n",
       "      <td>NaN</td>\n",
       "      <td>Hospitality &amp; leisure,</td>\n",
       "      <td>10%</td>\n",
       "      <td>NaN</td>\n",
       "      <td>NaN</td>\n",
       "    </tr>\n",
       "    <tr>\n",
       "      <th>...</th>\n",
       "      <td>...</td>\n",
       "      <td>...</td>\n",
       "      <td>...</td>\n",
       "      <td>...</td>\n",
       "      <td>...</td>\n",
       "      <td>...</td>\n",
       "      <td>...</td>\n",
       "      <td>...</td>\n",
       "      <td>...</td>\n",
       "    </tr>\n",
       "    <tr>\n",
       "      <th>154</th>\n",
       "      <td>DMI Analytics</td>\n",
       "      <td>NaN</td>\n",
       "      <td>NaN</td>\n",
       "      <td>NaN</td>\n",
       "      <td>NaN</td>\n",
       "      <td>NaN</td>\n",
       "      <td>NaN</td>\n",
       "      <td>NaN</td>\n",
       "      <td>NaN</td>\n",
       "    </tr>\n",
       "    <tr>\n",
       "      <th>155</th>\n",
       "      <td>Litchman Consultants</td>\n",
       "      <td>Custom Software Development</td>\n",
       "      <td>40%</td>\n",
       "      <td>NaN</td>\n",
       "      <td>NaN</td>\n",
       "      <td>NaN</td>\n",
       "      <td>NaN</td>\n",
       "      <td>NaN</td>\n",
       "      <td>NaN</td>\n",
       "    </tr>\n",
       "    <tr>\n",
       "      <th>156</th>\n",
       "      <td>Litchman Consultants</td>\n",
       "      <td>Business Consulting</td>\n",
       "      <td>20%</td>\n",
       "      <td>NaN</td>\n",
       "      <td>NaN</td>\n",
       "      <td>NaN</td>\n",
       "      <td>NaN</td>\n",
       "      <td>NaN</td>\n",
       "      <td>NaN</td>\n",
       "    </tr>\n",
       "    <tr>\n",
       "      <th>157</th>\n",
       "      <td>Litchman Consultants</td>\n",
       "      <td>Mobile App Development</td>\n",
       "      <td>20%</td>\n",
       "      <td>NaN</td>\n",
       "      <td>NaN</td>\n",
       "      <td>NaN</td>\n",
       "      <td>NaN</td>\n",
       "      <td>NaN</td>\n",
       "      <td>NaN</td>\n",
       "    </tr>\n",
       "    <tr>\n",
       "      <th>158</th>\n",
       "      <td>Litchman Consultants</td>\n",
       "      <td>Web Design</td>\n",
       "      <td>20%</td>\n",
       "      <td>NaN</td>\n",
       "      <td>NaN</td>\n",
       "      <td>NaN</td>\n",
       "      <td>NaN</td>\n",
       "      <td>NaN</td>\n",
       "      <td>NaN</td>\n",
       "    </tr>\n",
       "  </tbody>\n",
       "</table>\n",
       "<p>159 rows × 9 columns</p>\n",
       "</div>"
      ],
      "text/plain": [
       "              Company Name                Service Line  Service Line(%) Focus  \\\n",
       "0    BluChip Solutions LTD  Custom Software Development             40%         \n",
       "1    BluChip Solutions LTD       IT Strategy Consulting             20%         \n",
       "2    BluChip Solutions LTD              Web Development             20%         \n",
       "3    BluChip Solutions LTD       E-Commerce Development             10%         \n",
       "4    BluChip Solutions LTD       Mobile App Development             10%         \n",
       "..                     ...                          ...             ...   ...   \n",
       "154          DMI Analytics                          NaN             NaN   NaN   \n",
       "155   Litchman Consultants  Custom Software Development             40%   NaN   \n",
       "156   Litchman Consultants          Business Consulting             20%   NaN   \n",
       "157   Litchman Consultants       Mobile App Development             20%   NaN   \n",
       "158   Litchman Consultants                   Web Design             20%   NaN   \n",
       "\n",
       "    Focus(%)               Industries Industry(%)                 Clients  \\\n",
       "0        NaN                Education         20%  Small Business (<$10M)   \n",
       "1        NaN                  Medical         15%  Midmarket ($10M - $1B)   \n",
       "2        NaN               Non-Profit         15%       Enterprise (>$1B)   \n",
       "3        NaN       Financial services         10%                     NaN   \n",
       "4        NaN  Hospitality & leisure,          10%                     NaN   \n",
       "..       ...                      ...         ...                     ...   \n",
       "154      NaN                      NaN         NaN                     NaN   \n",
       "155      NaN                      NaN         NaN                     NaN   \n",
       "156      NaN                      NaN         NaN                     NaN   \n",
       "157      NaN                      NaN         NaN                     NaN   \n",
       "158      NaN                      NaN         NaN                     NaN   \n",
       "\n",
       "    Clients(%)  \n",
       "0          65%  \n",
       "1          20%  \n",
       "2          15%  \n",
       "3          NaN  \n",
       "4          NaN  \n",
       "..         ...  \n",
       "154        NaN  \n",
       "155        NaN  \n",
       "156        NaN  \n",
       "157        NaN  \n",
       "158        NaN  \n",
       "\n",
       "[159 rows x 9 columns]"
      ]
     },
     "execution_count": 3,
     "metadata": {},
     "output_type": "execute_result"
    }
   ],
   "source": [
    "data = pd.read_csv(r\"C:\\Users\\wanji\\Desktop\\edd(AutoRecovered).csv\")\n",
    "data"
   ]
  },
  {
   "cell_type": "code",
   "execution_count": 4,
   "metadata": {},
   "outputs": [
    {
     "data": {
      "text/html": [
       "<div>\n",
       "<style scoped>\n",
       "    .dataframe tbody tr th:only-of-type {\n",
       "        vertical-align: middle;\n",
       "    }\n",
       "\n",
       "    .dataframe tbody tr th {\n",
       "        vertical-align: top;\n",
       "    }\n",
       "\n",
       "    .dataframe thead th {\n",
       "        text-align: right;\n",
       "    }\n",
       "</style>\n",
       "<table border=\"1\" class=\"dataframe\">\n",
       "  <thead>\n",
       "    <tr style=\"text-align: right;\">\n",
       "      <th></th>\n",
       "      <th>Company Name</th>\n",
       "      <th>Service Line</th>\n",
       "      <th>Service Line(%)</th>\n",
       "      <th>Focus</th>\n",
       "      <th>Focus(%)</th>\n",
       "      <th>Industries</th>\n",
       "      <th>Industry(%)</th>\n",
       "      <th>Clients</th>\n",
       "      <th>Clients(%)</th>\n",
       "    </tr>\n",
       "  </thead>\n",
       "  <tbody>\n",
       "    <tr>\n",
       "      <th>0</th>\n",
       "      <td>BluChip Solutions LTD</td>\n",
       "      <td>Custom Software Development</td>\n",
       "      <td>40%</td>\n",
       "      <td></td>\n",
       "      <td>NaN</td>\n",
       "      <td>Education</td>\n",
       "      <td>20%</td>\n",
       "      <td>Small Business (&lt;$10M)</td>\n",
       "      <td>65%</td>\n",
       "    </tr>\n",
       "    <tr>\n",
       "      <th>1</th>\n",
       "      <td>BluChip Solutions LTD</td>\n",
       "      <td>IT Strategy Consulting</td>\n",
       "      <td>20%</td>\n",
       "      <td></td>\n",
       "      <td>NaN</td>\n",
       "      <td>Medical</td>\n",
       "      <td>15%</td>\n",
       "      <td>Midmarket ($10M - $1B)</td>\n",
       "      <td>20%</td>\n",
       "    </tr>\n",
       "    <tr>\n",
       "      <th>2</th>\n",
       "      <td>BluChip Solutions LTD</td>\n",
       "      <td>Web Development</td>\n",
       "      <td>20%</td>\n",
       "      <td></td>\n",
       "      <td>NaN</td>\n",
       "      <td>Non-Profit</td>\n",
       "      <td>15%</td>\n",
       "      <td>Enterprise (&gt;$1B)</td>\n",
       "      <td>15%</td>\n",
       "    </tr>\n",
       "    <tr>\n",
       "      <th>3</th>\n",
       "      <td>BluChip Solutions LTD</td>\n",
       "      <td>E-Commerce Development</td>\n",
       "      <td>10%</td>\n",
       "      <td></td>\n",
       "      <td>NaN</td>\n",
       "      <td>Financial services</td>\n",
       "      <td>10%</td>\n",
       "      <td>NaN</td>\n",
       "      <td>NaN</td>\n",
       "    </tr>\n",
       "    <tr>\n",
       "      <th>4</th>\n",
       "      <td>BluChip Solutions LTD</td>\n",
       "      <td>Mobile App Development</td>\n",
       "      <td>10%</td>\n",
       "      <td></td>\n",
       "      <td>NaN</td>\n",
       "      <td>Hospitality &amp; leisure,</td>\n",
       "      <td>10%</td>\n",
       "      <td>NaN</td>\n",
       "      <td>NaN</td>\n",
       "    </tr>\n",
       "  </tbody>\n",
       "</table>\n",
       "</div>"
      ],
      "text/plain": [
       "            Company Name                Service Line  Service Line(%) Focus  \\\n",
       "0  BluChip Solutions LTD  Custom Software Development             40%         \n",
       "1  BluChip Solutions LTD       IT Strategy Consulting             20%         \n",
       "2  BluChip Solutions LTD              Web Development             20%         \n",
       "3  BluChip Solutions LTD       E-Commerce Development             10%         \n",
       "4  BluChip Solutions LTD       Mobile App Development             10%         \n",
       "\n",
       "  Focus(%)               Industries Industry(%)                 Clients  \\\n",
       "0      NaN                Education         20%  Small Business (<$10M)   \n",
       "1      NaN                  Medical         15%  Midmarket ($10M - $1B)   \n",
       "2      NaN               Non-Profit         15%       Enterprise (>$1B)   \n",
       "3      NaN       Financial services         10%                     NaN   \n",
       "4      NaN  Hospitality & leisure,          10%                     NaN   \n",
       "\n",
       "  Clients(%)  \n",
       "0        65%  \n",
       "1        20%  \n",
       "2        15%  \n",
       "3        NaN  \n",
       "4        NaN  "
      ]
     },
     "execution_count": 4,
     "metadata": {},
     "output_type": "execute_result"
    }
   ],
   "source": [
    "# First /Top entries of data \n",
    "data.head()"
   ]
  },
  {
   "cell_type": "code",
   "execution_count": 5,
   "metadata": {},
   "outputs": [
    {
     "data": {
      "text/html": [
       "<div>\n",
       "<style scoped>\n",
       "    .dataframe tbody tr th:only-of-type {\n",
       "        vertical-align: middle;\n",
       "    }\n",
       "\n",
       "    .dataframe tbody tr th {\n",
       "        vertical-align: top;\n",
       "    }\n",
       "\n",
       "    .dataframe thead th {\n",
       "        text-align: right;\n",
       "    }\n",
       "</style>\n",
       "<table border=\"1\" class=\"dataframe\">\n",
       "  <thead>\n",
       "    <tr style=\"text-align: right;\">\n",
       "      <th></th>\n",
       "      <th>Company Name</th>\n",
       "      <th>Service Line</th>\n",
       "      <th>Service Line(%)</th>\n",
       "      <th>Focus</th>\n",
       "      <th>Focus(%)</th>\n",
       "      <th>Industries</th>\n",
       "      <th>Industry(%)</th>\n",
       "      <th>Clients</th>\n",
       "      <th>Clients(%)</th>\n",
       "    </tr>\n",
       "  </thead>\n",
       "  <tbody>\n",
       "    <tr>\n",
       "      <th>154</th>\n",
       "      <td>DMI Analytics</td>\n",
       "      <td>NaN</td>\n",
       "      <td>NaN</td>\n",
       "      <td>NaN</td>\n",
       "      <td>NaN</td>\n",
       "      <td>NaN</td>\n",
       "      <td>NaN</td>\n",
       "      <td>NaN</td>\n",
       "      <td>NaN</td>\n",
       "    </tr>\n",
       "    <tr>\n",
       "      <th>155</th>\n",
       "      <td>Litchman Consultants</td>\n",
       "      <td>Custom Software Development</td>\n",
       "      <td>40%</td>\n",
       "      <td>NaN</td>\n",
       "      <td>NaN</td>\n",
       "      <td>NaN</td>\n",
       "      <td>NaN</td>\n",
       "      <td>NaN</td>\n",
       "      <td>NaN</td>\n",
       "    </tr>\n",
       "    <tr>\n",
       "      <th>156</th>\n",
       "      <td>Litchman Consultants</td>\n",
       "      <td>Business Consulting</td>\n",
       "      <td>20%</td>\n",
       "      <td>NaN</td>\n",
       "      <td>NaN</td>\n",
       "      <td>NaN</td>\n",
       "      <td>NaN</td>\n",
       "      <td>NaN</td>\n",
       "      <td>NaN</td>\n",
       "    </tr>\n",
       "    <tr>\n",
       "      <th>157</th>\n",
       "      <td>Litchman Consultants</td>\n",
       "      <td>Mobile App Development</td>\n",
       "      <td>20%</td>\n",
       "      <td>NaN</td>\n",
       "      <td>NaN</td>\n",
       "      <td>NaN</td>\n",
       "      <td>NaN</td>\n",
       "      <td>NaN</td>\n",
       "      <td>NaN</td>\n",
       "    </tr>\n",
       "    <tr>\n",
       "      <th>158</th>\n",
       "      <td>Litchman Consultants</td>\n",
       "      <td>Web Design</td>\n",
       "      <td>20%</td>\n",
       "      <td>NaN</td>\n",
       "      <td>NaN</td>\n",
       "      <td>NaN</td>\n",
       "      <td>NaN</td>\n",
       "      <td>NaN</td>\n",
       "      <td>NaN</td>\n",
       "    </tr>\n",
       "  </tbody>\n",
       "</table>\n",
       "</div>"
      ],
      "text/plain": [
       "             Company Name                Service Line  Service Line(%) Focus  \\\n",
       "154         DMI Analytics                          NaN             NaN   NaN   \n",
       "155  Litchman Consultants  Custom Software Development             40%   NaN   \n",
       "156  Litchman Consultants          Business Consulting             20%   NaN   \n",
       "157  Litchman Consultants       Mobile App Development             20%   NaN   \n",
       "158  Litchman Consultants                   Web Design             20%   NaN   \n",
       "\n",
       "    Focus(%) Industries Industry(%) Clients Clients(%)  \n",
       "154      NaN        NaN         NaN     NaN        NaN  \n",
       "155      NaN        NaN         NaN     NaN        NaN  \n",
       "156      NaN        NaN         NaN     NaN        NaN  \n",
       "157      NaN        NaN         NaN     NaN        NaN  \n",
       "158      NaN        NaN         NaN     NaN        NaN  "
      ]
     },
     "execution_count": 5,
     "metadata": {},
     "output_type": "execute_result"
    }
   ],
   "source": [
    "# Last entries of data \n",
    "data.tail()"
   ]
  },
  {
   "cell_type": "markdown",
   "metadata": {},
   "source": [
    "##### 2.1 Dataset Info\n",
    "What the dataset Generally Entails and in this case \n",
    "* Shape\n",
    "* Columns , Column Names\n",
    "* Data Type\n",
    "* Statistics"
   ]
  },
  {
   "cell_type": "code",
   "execution_count": 6,
   "metadata": {},
   "outputs": [
    {
     "name": "stdout",
     "output_type": "stream",
     "text": [
      "<class 'pandas.core.frame.DataFrame'>\n",
      "RangeIndex: 159 entries, 0 to 158\n",
      "Data columns (total 9 columns):\n",
      " #   Column           Non-Null Count  Dtype \n",
      "---  ------           --------------  ----- \n",
      " 0   Company Name     159 non-null    object\n",
      " 1   Service Line     82 non-null     object\n",
      " 2   Service Line(%)  89 non-null     object\n",
      " 3   Focus            88 non-null     object\n",
      " 4   Focus(%)         67 non-null     object\n",
      " 5   Industries       62 non-null     object\n",
      " 6   Industry(%)      61 non-null     object\n",
      " 7   Clients          19 non-null     object\n",
      " 8   Clients(%)       20 non-null     object\n",
      "dtypes: object(9)\n",
      "memory usage: 11.3+ KB\n"
     ]
    }
   ],
   "source": [
    "# Know what the data entails\n",
    "data.info()"
   ]
  },
  {
   "cell_type": "code",
   "execution_count": 7,
   "metadata": {},
   "outputs": [
    {
     "data": {
      "text/html": [
       "<div>\n",
       "<style scoped>\n",
       "    .dataframe tbody tr th:only-of-type {\n",
       "        vertical-align: middle;\n",
       "    }\n",
       "\n",
       "    .dataframe tbody tr th {\n",
       "        vertical-align: top;\n",
       "    }\n",
       "\n",
       "    .dataframe thead th {\n",
       "        text-align: right;\n",
       "    }\n",
       "</style>\n",
       "<table border=\"1\" class=\"dataframe\">\n",
       "  <thead>\n",
       "    <tr style=\"text-align: right;\">\n",
       "      <th></th>\n",
       "      <th>Company Name</th>\n",
       "      <th>Service Line</th>\n",
       "      <th>Service Line(%)</th>\n",
       "      <th>Focus</th>\n",
       "      <th>Focus(%)</th>\n",
       "      <th>Industries</th>\n",
       "      <th>Industry(%)</th>\n",
       "      <th>Clients</th>\n",
       "      <th>Clients(%)</th>\n",
       "    </tr>\n",
       "  </thead>\n",
       "  <tbody>\n",
       "    <tr>\n",
       "      <th>count</th>\n",
       "      <td>159</td>\n",
       "      <td>82</td>\n",
       "      <td>89</td>\n",
       "      <td>88</td>\n",
       "      <td>67</td>\n",
       "      <td>62</td>\n",
       "      <td>61</td>\n",
       "      <td>19</td>\n",
       "      <td>20</td>\n",
       "    </tr>\n",
       "    <tr>\n",
       "      <th>unique</th>\n",
       "      <td>12</td>\n",
       "      <td>33</td>\n",
       "      <td>20</td>\n",
       "      <td>61</td>\n",
       "      <td>11</td>\n",
       "      <td>30</td>\n",
       "      <td>9</td>\n",
       "      <td>3</td>\n",
       "      <td>11</td>\n",
       "    </tr>\n",
       "    <tr>\n",
       "      <th>top</th>\n",
       "      <td>Pettinsky Company</td>\n",
       "      <td>Custom Software Development</td>\n",
       "      <td>10%</td>\n",
       "      <td></td>\n",
       "      <td>10%</td>\n",
       "      <td>Non-profit</td>\n",
       "      <td>10%</td>\n",
       "      <td>Small Business (&lt;$10M)</td>\n",
       "      <td>20%</td>\n",
       "    </tr>\n",
       "    <tr>\n",
       "      <th>freq</th>\n",
       "      <td>29</td>\n",
       "      <td>6</td>\n",
       "      <td>31</td>\n",
       "      <td>8</td>\n",
       "      <td>21</td>\n",
       "      <td>7</td>\n",
       "      <td>27</td>\n",
       "      <td>7</td>\n",
       "      <td>5</td>\n",
       "    </tr>\n",
       "  </tbody>\n",
       "</table>\n",
       "</div>"
      ],
      "text/plain": [
       "             Company Name                Service Line  Service Line(%) Focus  \\\n",
       "count                 159                           82              89    88   \n",
       "unique                 12                           33              20    61   \n",
       "top     Pettinsky Company  Custom Software Development             10%         \n",
       "freq                   29                            6              31     8   \n",
       "\n",
       "       Focus(%)  Industries Industry(%)                 Clients Clients(%)  \n",
       "count        67          62          61                      19         20  \n",
       "unique       11          30           9                       3         11  \n",
       "top         10%  Non-profit         10%  Small Business (<$10M)        20%  \n",
       "freq         21           7          27                       7          5  "
      ]
     },
     "execution_count": 7,
     "metadata": {},
     "output_type": "execute_result"
    }
   ],
   "source": [
    "# Statistics of the dataset: \n",
    "data.describe()"
   ]
  },
  {
   "cell_type": "code",
   "execution_count": 8,
   "metadata": {},
   "outputs": [
    {
     "data": {
      "text/plain": [
       "(159, 9)"
      ]
     },
     "execution_count": 8,
     "metadata": {},
     "output_type": "execute_result"
    }
   ],
   "source": [
    "data.shape"
   ]
  },
  {
   "cell_type": "markdown",
   "metadata": {},
   "source": [
    "* From the above, the dataset contains 159 rows and 9 columns "
   ]
  },
  {
   "cell_type": "markdown",
   "metadata": {},
   "source": [
    "## Data Cleaning \n",
    "* Identify duplicates and drop them, but depending with the data \n",
    "* Identify missing values: Use count, mean or drop missing values depending with the data\n",
    "* Checking for Outliers: Data Anomalies  "
   ]
  },
  {
   "cell_type": "code",
   "execution_count": 21,
   "metadata": {},
   "outputs": [
    {
     "data": {
      "text/plain": [
       "13"
      ]
     },
     "execution_count": 21,
     "metadata": {},
     "output_type": "execute_result"
    }
   ],
   "source": [
    "# Identify the duplicates \n",
    "data.duplicated().sum()"
   ]
  },
  {
   "cell_type": "markdown",
   "metadata": {},
   "source": [
    "* From the above we have some duolicated values , but given the data there are duplicated elements but have different entries, hence no need for dropping them "
   ]
  },
  {
   "cell_type": "code",
   "execution_count": 10,
   "metadata": {},
   "outputs": [
    {
     "data": {
      "text/plain": [
       "Company Name         0\n",
       "Service Line        77\n",
       "Service Line(%)     70\n",
       "Focus               71\n",
       "Focus(%)            92\n",
       "Industries          97\n",
       "Industry(%)         98\n",
       "Clients            140\n",
       "Clients(%)         139\n",
       "dtype: int64"
      ]
     },
     "execution_count": 10,
     "metadata": {},
     "output_type": "execute_result"
    }
   ],
   "source": [
    "# Identify the missing values\n",
    "data.isna().sum()"
   ]
  },
  {
   "cell_type": "markdown",
   "metadata": {},
   "source": [
    "* In this case we will not drop the missing values bceause of how much it will affect the data, Some entries will be permanetly deletred that would have been used for analysis\n",
    "* We use the (\") placeholder to make sure the structure of the data is not affected \n"
   ]
  },
  {
   "cell_type": "code",
   "execution_count": 11,
   "metadata": {},
   "outputs": [],
   "source": [
    "\n",
    "# Fill NaN values with an empty string\n",
    "data.fillna('', inplace=True)\n"
   ]
  },
  {
   "cell_type": "code",
   "execution_count": 27,
   "metadata": {},
   "outputs": [],
   "source": [
    "# data"
   ]
  },
  {
   "cell_type": "code",
   "execution_count": 28,
   "metadata": {},
   "outputs": [],
   "source": [
    "# # Select the variables you want to plot\n",
    "\n",
    "# cols_to_plot = ['Service Line(%)','Industry(%)', 'Clients(%)','Focus(%)']\n",
    "\n",
    "# ######## Create a subplot grid\n",
    "# fig, axes = plt.subplots(nrows=1, ncols=len(cols_to_plot), figsize=(10, 5), sharey=True)\n",
    "\n",
    "# ####### Create a boxplot for each variable in a separate subplot\n",
    "# for i, col in enumerate(cols_to_plot):\n",
    "#     axes[i].boxplot(data[col])\n",
    "#     axes[i].set_title(col)\n",
    "#     axes[i].tick_params(axis='both', which='major')\n",
    "\n",
    "# # Adjust spacing between subplots\n",
    "# plt.tight_layout()\n",
    "# # save te figure\n",
    "# #plt.savefig(\".data/images/Outliers\")\n",
    "# # Show the figure\n",
    "# plt.show()"
   ]
  },
  {
   "cell_type": "code",
   "execution_count": 19,
   "metadata": {},
   "outputs": [
    {
     "data": {
      "image/png": "[encoded data removed]",
      "text/plain": [
       "<Figure size 720x432 with 1 Axes>"
      ]
     },
     "metadata": {
      "needs_background": "light"
     },
     "output_type": "display_data"
    }
   ],
   "source": [
    "# Checking for outliers in the data\n",
    "plt.figure(figsize = (10, 6))\n",
    "sns.boxplot(data = data)\n",
    "plt.title(\"Box Plot of Dataset to Identify Outliers\")\n",
    "plt.xticks(rotation=45)\n",
    "plt.show()\n",
    "\n",
    "\n"
   ]
  },
  {
   "cell_type": "code",
   "execution_count": null,
   "metadata": {},
   "outputs": [],
   "source": []
  },
  {
   "cell_type": "code",
   "execution_count": null,
   "metadata": {},
   "outputs": [],
   "source": []
  }
 ],
 "metadata": {
  "kernelspec": {
   "display_name": "learn-env",
   "language": "python",
   "name": "python3"
  },
  "language_info": {
   "codemirror_mode": {
    "name": "ipython",
    "version": 3
   },
   "file_extension": ".py",
   "mimetype": "text/x-python",
   "name": "python",
   "nbconvert_exporter": "python",
   "pygments_lexer": "ipython3",
   "version": "3.8.5"
  }
 },
 "nbformat": 4,
 "nbformat_minor": 2
}
